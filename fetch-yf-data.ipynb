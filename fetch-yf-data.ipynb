{
 "cells": [
  {
   "cell_type": "markdown",
   "id": "a414bda0",
   "metadata": {},
   "source": [
    "# Fetch data from yahoo finance"
   ]
  },
  {
   "cell_type": "code",
   "execution_count": null,
   "id": "bd523a48",
   "metadata": {},
   "outputs": [
    {
     "name": "stdout",
     "output_type": "stream",
     "text": [
      "Fetching data for AAPL...\n"
     ]
    },
    {
     "name": "stderr",
     "output_type": "stream",
     "text": [
      "[*********************100%***********************]  1 of 1 completed"
     ]
    },
    {
     "name": "stdout",
     "output_type": "stream",
     "text": [
      "Saved: data/raw/stock_data\\AAPL_daily.csv\n",
      "All data downloaded and flattened correctly!\n"
     ]
    },
    {
     "name": "stderr",
     "output_type": "stream",
     "text": [
      "\n"
     ]
    }
   ],
   "source": [
    "import os\n",
    "import yfinance as yf\n",
    "\n",
    "tickers = [\"GE\", \"MSFT\", \"JNJ\", \"IBM\", \"AAPL\"]\n",
    "output_folder = \"data/raw/stock_data\"\n",
    "os.makedirs(output_folder, exist_ok=True)\n",
    "\n",
    "for ticker in tickers:\n",
    "    print(f\"Fetching data for {ticker}...\")\n",
    "    data = yf.download(ticker, period=\"max\", interval=\"1d\")\n",
    "\n",
    "    # Reset index to make Date a column\n",
    "    data.reset_index(inplace=True)\n",
    "\n",
    "    # Flatten column names (removing ticker name)\n",
    "    data.columns = [col[0] if isinstance(col, tuple) else col for col in data.columns]\n",
    "\n",
    "    # Save to CSV\n",
    "    file_path = os.path.join(output_folder, f\"{ticker}_daily.csv\")\n",
    "    data.to_csv(file_path, index=False)\n",
    "    print(f\"Saved: {file_path}\")\n",
    "\n",
    "print(\"All data downloaded and flattened correctly!\")\n"
   ]
  },
  {
   "cell_type": "markdown",
   "id": "ab7273de",
   "metadata": {},
   "source": [
    "# Feature engineering"
   ]
  },
  {
   "cell_type": "code",
   "execution_count": 41,
   "id": "31bb3c3c",
   "metadata": {},
   "outputs": [
    {
     "name": "stdout",
     "output_type": "stream",
     "text": [
      "Processing AAPL_daily...\n",
      "Saved: data/processed/stock_data\\AAPL_daily_features.csv | Dropped rows: 21\n",
      "Processing GE_daily...\n",
      "Saved: data/processed/stock_data\\GE_daily_features.csv | Dropped rows: 21\n",
      "Processing IBM_daily...\n",
      "Saved: data/processed/stock_data\\IBM_daily_features.csv | Dropped rows: 23\n",
      "Processing JNJ_daily...\n",
      "Saved: data/processed/stock_data\\JNJ_daily_features.csv | Dropped rows: 30\n",
      "Processing MSFT_daily...\n",
      "Saved: data/processed/stock_data\\MSFT_daily_features.csv | Dropped rows: 20\n",
      "\n",
      "All stocks processed with log returns!\n"
     ]
    }
   ],
   "source": [
    "import pandas as pd\n",
    "import numpy as np\n",
    "import os\n",
    "from glob import glob\n",
    "\n",
    "# Paths\n",
    "input_folder = \"data/raw/stock_data\"\n",
    "output_folder = \"data/processed/stock_data\"\n",
    "os.makedirs(output_folder, exist_ok=True)\n",
    "\n",
    "def compute_rsi(series, period=14):\n",
    "    delta = series.diff()\n",
    "    gain = np.where(delta > 0, delta, 0)\n",
    "    loss = np.where(delta < 0, -delta, 0)\n",
    "    avg_gain = pd.Series(gain).rolling(window=period).mean()\n",
    "    avg_loss = pd.Series(loss).rolling(window=period).mean()\n",
    "    rs = avg_gain / avg_loss\n",
    "    rsi = 100 - (100 / (1 + rs))\n",
    "    return rsi\n",
    "\n",
    "def feature_engineering(df):\n",
    "    df.sort_values(\"Date\", inplace=True)\n",
    "\n",
    "    # % Change in Volume\n",
    "    df['Volume_pct_change'] = df['Volume'].pct_change()\n",
    "\n",
    "    # **Log Returns**\n",
    "    df['Log_Return'] = np.log(df['Close'] / df['Close'].shift(1))\n",
    "\n",
    "    # Lag features\n",
    "    df['Close_lag1'] = df['Close'].shift(1)\n",
    "    df['High_lag1'] = df['High'].shift(1)\n",
    "    df['Low_lag1'] = df['Low'].shift(1)\n",
    "    df['Open_lag1'] = df['Open'].shift(1)\n",
    "    df['Log_Return_lag1'] = df['Log_Return'].shift(1)\n",
    "\n",
    "    # Simple Moving Averages (SMA)\n",
    "    df['SMA_10'] = df['Close'].rolling(window=10).mean()\n",
    "    df['SMA_5'] = df['Close'].rolling(window=5).mean()\n",
    "\n",
    "    # Exponential Moving Average (EMA 10 periods)\n",
    "    df['EMA_10'] = df['Close'].ewm(span=10, adjust=False).mean()\n",
    "\n",
    "    # RSI 14\n",
    "    df['RSI_14'] = compute_rsi(df['Close'], 14)\n",
    "\n",
    "    # Stochastic %K (14 days)\n",
    "    low_14 = df['Low'].rolling(window=14).min()\n",
    "    high_14 = df['High'].rolling(window=14).max()\n",
    "    df['Stoch_%K_14'] = (df['Close'] - low_14) / (high_14 - low_14) * 100\n",
    "\n",
    "    # Stochastic %D (3-day SMA of %K)\n",
    "    df['Stoch_%D_14'] = df['Stoch_%K_14'].rolling(window=3).mean()\n",
    "\n",
    "    # MACD (12EMA - 26EMA) and Signal line (9EMA)\n",
    "    ema_12 = df['Close'].ewm(span=12, adjust=False).mean()\n",
    "    ema_26 = df['Close'].ewm(span=26, adjust=False).mean()\n",
    "    df['MACD'] = ema_12 - ema_26\n",
    "    df['MACD_Signal'] = df['MACD'].ewm(span=9, adjust=False).mean()\n",
    "\n",
    "    # Bollinger Bands (20 periods, 2 std dev)\n",
    "    bb_period = 20\n",
    "    df['BB_middle'] = df['Close'].rolling(window=bb_period).mean()\n",
    "    df['BB_upper'] = df['BB_middle'] + (2 * df['Close'].rolling(window=bb_period).std())\n",
    "    df['BB_lower'] = df['BB_middle'] - (2 * df['Close'].rolling(window=bb_period).std())\n",
    "    df['BB_width'] = df['BB_upper'] - df['BB_lower']\n",
    "\n",
    "    # **Target: Next-day log return**\n",
    "    df['Target'] = np.log(df['Close'].shift(-1) / df['Close'])\n",
    "\n",
    "    # Replace inf/-inf with NaN\n",
    "    df.replace([np.inf, -np.inf], np.nan, inplace=True)\n",
    "\n",
    "    # Drop NaNs\n",
    "    before_drop = len(df)\n",
    "    df.dropna(inplace=True)\n",
    "    after_drop = len(df)\n",
    "    dropped_rows = before_drop - after_drop\n",
    "\n",
    "    return df, dropped_rows\n",
    "\n",
    "# Process all CSVs\n",
    "for file_path in glob(os.path.join(input_folder, \"*.csv\")):\n",
    "    stock_name = os.path.basename(file_path).replace(\".csv\", \"\")\n",
    "    print(f\"Processing {stock_name}...\")\n",
    "    df = pd.read_csv(file_path, parse_dates=[\"Date\"])\n",
    "    df_processed, dropped_rows = feature_engineering(df)\n",
    "    output_file = os.path.join(output_folder, f\"{stock_name}_features.csv\")\n",
    "    df_processed.to_csv(output_file, index=False)\n",
    "    print(f\"Saved: {output_file} | Dropped rows: {dropped_rows}\")\n",
    "\n",
    "print(\"\\nAll stocks processed with log returns!\")\n"
   ]
  }
 ],
 "metadata": {
  "kernelspec": {
   "display_name": "stock-predict",
   "language": "python",
   "name": "python3"
  },
  "language_info": {
   "codemirror_mode": {
    "name": "ipython",
    "version": 3
   },
   "file_extension": ".py",
   "mimetype": "text/x-python",
   "name": "python",
   "nbconvert_exporter": "python",
   "pygments_lexer": "ipython3",
   "version": "3.10.18"
  }
 },
 "nbformat": 4,
 "nbformat_minor": 5
}
