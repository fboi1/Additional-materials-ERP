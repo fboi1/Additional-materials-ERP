{
 "cells": [
  {
   "cell_type": "markdown",
   "id": "62dd0f97",
   "metadata": {},
   "source": [
    "# Fit the model"
   ]
  },
  {
   "cell_type": "code",
   "execution_count": null,
   "id": "80b716b5",
   "metadata": {},
   "outputs": [
    {
     "name": "stdout",
     "output_type": "stream",
     "text": [
      "Found 5 datasets to process\n",
      "\n",
      "[1/5] Processing AAPL...\n",
      "Loaded 11224 rows for AAPL\n",
      "\n",
      "============================================================\n",
      "Training model for: AAPL\n",
      "============================================================\n"
     ]
    },
    {
     "name": "stderr",
     "output_type": "stream",
     "text": [
      "c:\\Users\\gee\\AppData\\Local\\Programs\\Python\\Python311\\Lib\\site-packages\\sklearn\\linear_model\\_ridge.py:254: UserWarning: Singular matrix in solving dual problem. Using least-squares solution instead.\n",
      "  warnings.warn(\n",
      "c:\\Users\\gee\\AppData\\Local\\Programs\\Python\\Python311\\Lib\\site-packages\\sklearn\\linear_model\\_ridge.py:254: UserWarning: Singular matrix in solving dual problem. Using least-squares solution instead.\n",
      "  warnings.warn(\n",
      "c:\\Users\\gee\\AppData\\Local\\Programs\\Python\\Python311\\Lib\\site-packages\\sklearn\\linear_model\\_ridge.py:254: UserWarning: Singular matrix in solving dual problem. Using least-squares solution instead.\n",
      "  warnings.warn(\n"
     ]
    },
    {
     "name": "stdout",
     "output_type": "stream",
     "text": [
      "[1/4] w=20, MR=2048, Hydra=(64,8,17) -> CV bal_acc 0.5052 ± 0.0164\n"
     ]
    },
    {
     "name": "stderr",
     "output_type": "stream",
     "text": [
      "c:\\Users\\gee\\AppData\\Local\\Programs\\Python\\Python311\\Lib\\site-packages\\sklearn\\linear_model\\_ridge.py:254: UserWarning: Singular matrix in solving dual problem. Using least-squares solution instead.\n",
      "  warnings.warn(\n",
      "c:\\Users\\gee\\AppData\\Local\\Programs\\Python\\Python311\\Lib\\site-packages\\sklearn\\linear_model\\_ridge.py:254: UserWarning: Singular matrix in solving dual problem. Using least-squares solution instead.\n",
      "  warnings.warn(\n",
      "c:\\Users\\gee\\AppData\\Local\\Programs\\Python\\Python311\\Lib\\site-packages\\sklearn\\linear_model\\_ridge.py:254: UserWarning: Singular matrix in solving dual problem. Using least-squares solution instead.\n",
      "  warnings.warn(\n"
     ]
    },
    {
     "name": "stdout",
     "output_type": "stream",
     "text": [
      "[2/4] w=20, MR=4096, Hydra=(64,8,17) -> CV bal_acc 0.5052 ± 0.0164\n"
     ]
    },
    {
     "name": "stderr",
     "output_type": "stream",
     "text": [
      "c:\\Users\\gee\\AppData\\Local\\Programs\\Python\\Python311\\Lib\\site-packages\\sklearn\\linear_model\\_ridge.py:254: UserWarning: Singular matrix in solving dual problem. Using least-squares solution instead.\n",
      "  warnings.warn(\n",
      "c:\\Users\\gee\\AppData\\Local\\Programs\\Python\\Python311\\Lib\\site-packages\\sklearn\\linear_model\\_ridge.py:254: UserWarning: Singular matrix in solving dual problem. Using least-squares solution instead.\n",
      "  warnings.warn(\n",
      "c:\\Users\\gee\\AppData\\Local\\Programs\\Python\\Python311\\Lib\\site-packages\\sklearn\\linear_model\\_ridge.py:254: UserWarning: Singular matrix in solving dual problem. Using least-squares solution instead.\n",
      "  warnings.warn(\n"
     ]
    },
    {
     "name": "stdout",
     "output_type": "stream",
     "text": [
      "[3/4] w=64, MR=2048, Hydra=(64,8,17) -> CV bal_acc 0.4939 ± 0.0094\n"
     ]
    },
    {
     "name": "stderr",
     "output_type": "stream",
     "text": [
      "c:\\Users\\gee\\AppData\\Local\\Programs\\Python\\Python311\\Lib\\site-packages\\sklearn\\linear_model\\_ridge.py:254: UserWarning: Singular matrix in solving dual problem. Using least-squares solution instead.\n",
      "  warnings.warn(\n",
      "c:\\Users\\gee\\AppData\\Local\\Programs\\Python\\Python311\\Lib\\site-packages\\sklearn\\linear_model\\_ridge.py:254: UserWarning: Singular matrix in solving dual problem. Using least-squares solution instead.\n",
      "  warnings.warn(\n",
      "c:\\Users\\gee\\AppData\\Local\\Programs\\Python\\Python311\\Lib\\site-packages\\sklearn\\linear_model\\_ridge.py:254: UserWarning: Singular matrix in solving dual problem. Using least-squares solution instead.\n",
      "  warnings.warn(\n"
     ]
    },
    {
     "name": "stdout",
     "output_type": "stream",
     "text": [
      "[4/4] w=64, MR=4096, Hydra=(64,8,17) -> CV bal_acc 0.4939 ± 0.0094\n",
      "\n",
      "Best config by CV: window=20, MR=2048, Hydra=(groups=64, kernels=8, max_ch=17) with CV bal_acc=0.5052\n",
      "\n",
      "Fitting best transformers on training split...\n"
     ]
    },
    {
     "name": "stderr",
     "output_type": "stream",
     "text": [
      "c:\\Users\\gee\\AppData\\Local\\Programs\\Python\\Python311\\Lib\\site-packages\\sklearn\\linear_model\\_ridge.py:254: UserWarning: Singular matrix in solving dual problem. Using least-squares solution instead.\n",
      "  warnings.warn(\n"
     ]
    },
    {
     "name": "stdout",
     "output_type": "stream",
     "text": [
      "\n",
      "Test accuracy: 0.4779\n",
      "              precision    recall  f1-score   support\n",
      "\n",
      "        Down       0.47      0.93      0.62      1038\n",
      "          Up       0.59      0.09      0.16      1203\n",
      "\n",
      "    accuracy                           0.48      2241\n",
      "   macro avg       0.53      0.51      0.39      2241\n",
      "weighted avg       0.53      0.48      0.37      2241\n",
      "\n",
      "✓ Best model saved to models-grid-2//AAPL_mr_hydra_best.pkl\n",
      "\n",
      "[2/5] Processing GE...\n",
      "Loaded 15977 rows for GE\n",
      "\n",
      "============================================================\n",
      "Training model for: GE\n",
      "============================================================\n"
     ]
    },
    {
     "name": "stderr",
     "output_type": "stream",
     "text": [
      "c:\\Users\\gee\\AppData\\Local\\Programs\\Python\\Python311\\Lib\\site-packages\\sklearn\\linear_model\\_ridge.py:254: UserWarning: Singular matrix in solving dual problem. Using least-squares solution instead.\n",
      "  warnings.warn(\n",
      "c:\\Users\\gee\\AppData\\Local\\Programs\\Python\\Python311\\Lib\\site-packages\\sklearn\\linear_model\\_ridge.py:254: UserWarning: Singular matrix in solving dual problem. Using least-squares solution instead.\n",
      "  warnings.warn(\n",
      "c:\\Users\\gee\\AppData\\Local\\Programs\\Python\\Python311\\Lib\\site-packages\\sklearn\\linear_model\\_ridge.py:254: UserWarning: Singular matrix in solving dual problem. Using least-squares solution instead.\n",
      "  warnings.warn(\n"
     ]
    },
    {
     "name": "stdout",
     "output_type": "stream",
     "text": [
      "[1/4] w=20, MR=2048, Hydra=(64,8,17) -> CV bal_acc 0.5001 ± 0.0081\n"
     ]
    },
    {
     "name": "stderr",
     "output_type": "stream",
     "text": [
      "c:\\Users\\gee\\AppData\\Local\\Programs\\Python\\Python311\\Lib\\site-packages\\sklearn\\linear_model\\_ridge.py:254: UserWarning: Singular matrix in solving dual problem. Using least-squares solution instead.\n",
      "  warnings.warn(\n",
      "c:\\Users\\gee\\AppData\\Local\\Programs\\Python\\Python311\\Lib\\site-packages\\sklearn\\linear_model\\_ridge.py:254: UserWarning: Singular matrix in solving dual problem. Using least-squares solution instead.\n",
      "  warnings.warn(\n",
      "c:\\Users\\gee\\AppData\\Local\\Programs\\Python\\Python311\\Lib\\site-packages\\sklearn\\linear_model\\_ridge.py:254: UserWarning: Singular matrix in solving dual problem. Using least-squares solution instead.\n",
      "  warnings.warn(\n"
     ]
    },
    {
     "name": "stdout",
     "output_type": "stream",
     "text": [
      "[2/4] w=20, MR=4096, Hydra=(64,8,17) -> CV bal_acc 0.5024 ± 0.0083\n"
     ]
    },
    {
     "name": "stderr",
     "output_type": "stream",
     "text": [
      "c:\\Users\\gee\\AppData\\Local\\Programs\\Python\\Python311\\Lib\\site-packages\\sklearn\\linear_model\\_ridge.py:254: UserWarning: Singular matrix in solving dual problem. Using least-squares solution instead.\n",
      "  warnings.warn(\n",
      "c:\\Users\\gee\\AppData\\Local\\Programs\\Python\\Python311\\Lib\\site-packages\\sklearn\\linear_model\\_ridge.py:254: UserWarning: Singular matrix in solving dual problem. Using least-squares solution instead.\n",
      "  warnings.warn(\n",
      "c:\\Users\\gee\\AppData\\Local\\Programs\\Python\\Python311\\Lib\\site-packages\\sklearn\\linear_model\\_ridge.py:254: UserWarning: Singular matrix in solving dual problem. Using least-squares solution instead.\n",
      "  warnings.warn(\n"
     ]
    },
    {
     "name": "stdout",
     "output_type": "stream",
     "text": [
      "[3/4] w=64, MR=2048, Hydra=(64,8,17) -> CV bal_acc 0.5029 ± 0.0074\n"
     ]
    },
    {
     "name": "stderr",
     "output_type": "stream",
     "text": [
      "c:\\Users\\gee\\AppData\\Local\\Programs\\Python\\Python311\\Lib\\site-packages\\sklearn\\linear_model\\_ridge.py:254: UserWarning: Singular matrix in solving dual problem. Using least-squares solution instead.\n",
      "  warnings.warn(\n",
      "c:\\Users\\gee\\AppData\\Local\\Programs\\Python\\Python311\\Lib\\site-packages\\sklearn\\linear_model\\_ridge.py:254: UserWarning: Singular matrix in solving dual problem. Using least-squares solution instead.\n",
      "  warnings.warn(\n",
      "c:\\Users\\gee\\AppData\\Local\\Programs\\Python\\Python311\\Lib\\site-packages\\sklearn\\linear_model\\_ridge.py:254: UserWarning: Singular matrix in solving dual problem. Using least-squares solution instead.\n",
      "  warnings.warn(\n"
     ]
    },
    {
     "name": "stdout",
     "output_type": "stream",
     "text": [
      "[4/4] w=64, MR=4096, Hydra=(64,8,17) -> CV bal_acc 0.5020 ± 0.0093\n",
      "\n",
      "Best config by CV: window=64, MR=2048, Hydra=(groups=64, kernels=8, max_ch=17) with CV bal_acc=0.5029\n",
      "\n",
      "Fitting best transformers on training split...\n"
     ]
    },
    {
     "name": "stderr",
     "output_type": "stream",
     "text": [
      "c:\\Users\\gee\\AppData\\Local\\Programs\\Python\\Python311\\Lib\\site-packages\\sklearn\\linear_model\\_ridge.py:254: UserWarning: Singular matrix in solving dual problem. Using least-squares solution instead.\n",
      "  warnings.warn(\n"
     ]
    },
    {
     "name": "stdout",
     "output_type": "stream",
     "text": [
      "\n",
      "Test accuracy: 0.5124\n",
      "              precision    recall  f1-score   support\n",
      "\n",
      "        Down       0.51      0.48      0.50      1576\n",
      "          Up       0.52      0.54      0.53      1607\n",
      "\n",
      "    accuracy                           0.51      3183\n",
      "   macro avg       0.51      0.51      0.51      3183\n",
      "weighted avg       0.51      0.51      0.51      3183\n",
      "\n",
      "✓ Best model saved to models-grid-2//GE_mr_hydra_best.pkl\n",
      "\n",
      "[3/5] Processing IBM...\n",
      "Loaded 15975 rows for IBM\n",
      "\n",
      "============================================================\n",
      "Training model for: IBM\n",
      "============================================================\n"
     ]
    },
    {
     "name": "stderr",
     "output_type": "stream",
     "text": [
      "c:\\Users\\gee\\AppData\\Local\\Programs\\Python\\Python311\\Lib\\site-packages\\sklearn\\linear_model\\_ridge.py:254: UserWarning: Singular matrix in solving dual problem. Using least-squares solution instead.\n",
      "  warnings.warn(\n",
      "c:\\Users\\gee\\AppData\\Local\\Programs\\Python\\Python311\\Lib\\site-packages\\sklearn\\linear_model\\_ridge.py:254: UserWarning: Singular matrix in solving dual problem. Using least-squares solution instead.\n",
      "  warnings.warn(\n",
      "c:\\Users\\gee\\AppData\\Local\\Programs\\Python\\Python311\\Lib\\site-packages\\sklearn\\linear_model\\_ridge.py:254: UserWarning: Singular matrix in solving dual problem. Using least-squares solution instead.\n",
      "  warnings.warn(\n"
     ]
    },
    {
     "name": "stdout",
     "output_type": "stream",
     "text": [
      "[1/4] w=20, MR=2048, Hydra=(64,8,17) -> CV bal_acc 0.5033 ± 0.0035\n"
     ]
    },
    {
     "name": "stderr",
     "output_type": "stream",
     "text": [
      "c:\\Users\\gee\\AppData\\Local\\Programs\\Python\\Python311\\Lib\\site-packages\\sklearn\\linear_model\\_ridge.py:254: UserWarning: Singular matrix in solving dual problem. Using least-squares solution instead.\n",
      "  warnings.warn(\n",
      "c:\\Users\\gee\\AppData\\Local\\Programs\\Python\\Python311\\Lib\\site-packages\\sklearn\\linear_model\\_ridge.py:254: UserWarning: Singular matrix in solving dual problem. Using least-squares solution instead.\n",
      "  warnings.warn(\n",
      "c:\\Users\\gee\\AppData\\Local\\Programs\\Python\\Python311\\Lib\\site-packages\\sklearn\\linear_model\\_ridge.py:254: UserWarning: Singular matrix in solving dual problem. Using least-squares solution instead.\n",
      "  warnings.warn(\n"
     ]
    },
    {
     "name": "stdout",
     "output_type": "stream",
     "text": [
      "[2/4] w=20, MR=4096, Hydra=(64,8,17) -> CV bal_acc 0.5039 ± 0.0034\n"
     ]
    },
    {
     "name": "stderr",
     "output_type": "stream",
     "text": [
      "c:\\Users\\gee\\AppData\\Local\\Programs\\Python\\Python311\\Lib\\site-packages\\sklearn\\linear_model\\_ridge.py:254: UserWarning: Singular matrix in solving dual problem. Using least-squares solution instead.\n",
      "  warnings.warn(\n",
      "c:\\Users\\gee\\AppData\\Local\\Programs\\Python\\Python311\\Lib\\site-packages\\sklearn\\linear_model\\_ridge.py:254: UserWarning: Singular matrix in solving dual problem. Using least-squares solution instead.\n",
      "  warnings.warn(\n",
      "c:\\Users\\gee\\AppData\\Local\\Programs\\Python\\Python311\\Lib\\site-packages\\sklearn\\linear_model\\_ridge.py:254: UserWarning: Singular matrix in solving dual problem. Using least-squares solution instead.\n",
      "  warnings.warn(\n"
     ]
    },
    {
     "name": "stdout",
     "output_type": "stream",
     "text": [
      "[3/4] w=64, MR=2048, Hydra=(64,8,17) -> CV bal_acc 0.5025 ± 0.0044\n"
     ]
    },
    {
     "name": "stderr",
     "output_type": "stream",
     "text": [
      "c:\\Users\\gee\\AppData\\Local\\Programs\\Python\\Python311\\Lib\\site-packages\\sklearn\\linear_model\\_ridge.py:254: UserWarning: Singular matrix in solving dual problem. Using least-squares solution instead.\n",
      "  warnings.warn(\n",
      "c:\\Users\\gee\\AppData\\Local\\Programs\\Python\\Python311\\Lib\\site-packages\\sklearn\\linear_model\\_ridge.py:254: UserWarning: Singular matrix in solving dual problem. Using least-squares solution instead.\n",
      "  warnings.warn(\n",
      "c:\\Users\\gee\\AppData\\Local\\Programs\\Python\\Python311\\Lib\\site-packages\\sklearn\\linear_model\\_ridge.py:254: UserWarning: Singular matrix in solving dual problem. Using least-squares solution instead.\n",
      "  warnings.warn(\n"
     ]
    },
    {
     "name": "stdout",
     "output_type": "stream",
     "text": [
      "[4/4] w=64, MR=4096, Hydra=(64,8,17) -> CV bal_acc 0.5029 ± 0.0052\n",
      "\n",
      "Best config by CV: window=20, MR=4096, Hydra=(groups=64, kernels=8, max_ch=17) with CV bal_acc=0.5039\n",
      "\n",
      "Fitting best transformers on training split...\n"
     ]
    },
    {
     "name": "stderr",
     "output_type": "stream",
     "text": [
      "c:\\Users\\gee\\AppData\\Local\\Programs\\Python\\Python311\\Lib\\site-packages\\sklearn\\linear_model\\_ridge.py:254: UserWarning: Singular matrix in solving dual problem. Using least-squares solution instead.\n",
      "  warnings.warn(\n"
     ]
    },
    {
     "name": "stdout",
     "output_type": "stream",
     "text": [
      "\n",
      "Test accuracy: 0.4992\n",
      "              precision    recall  f1-score   support\n",
      "\n",
      "        Down       0.48      0.60      0.53      1520\n",
      "          Up       0.53      0.40      0.46      1671\n",
      "\n",
      "    accuracy                           0.50      3191\n",
      "   macro avg       0.50      0.50      0.50      3191\n",
      "weighted avg       0.51      0.50      0.49      3191\n",
      "\n",
      "✓ Best model saved to models-grid-2//IBM_mr_hydra_best.pkl\n",
      "\n",
      "[4/5] Processing JNJ...\n",
      "Loaded 15968 rows for JNJ\n",
      "\n",
      "============================================================\n",
      "Training model for: JNJ\n",
      "============================================================\n"
     ]
    },
    {
     "name": "stderr",
     "output_type": "stream",
     "text": [
      "c:\\Users\\gee\\AppData\\Local\\Programs\\Python\\Python311\\Lib\\site-packages\\sklearn\\linear_model\\_ridge.py:254: UserWarning: Singular matrix in solving dual problem. Using least-squares solution instead.\n",
      "  warnings.warn(\n",
      "c:\\Users\\gee\\AppData\\Local\\Programs\\Python\\Python311\\Lib\\site-packages\\sklearn\\linear_model\\_ridge.py:254: UserWarning: Singular matrix in solving dual problem. Using least-squares solution instead.\n",
      "  warnings.warn(\n",
      "c:\\Users\\gee\\AppData\\Local\\Programs\\Python\\Python311\\Lib\\site-packages\\sklearn\\linear_model\\_ridge.py:254: UserWarning: Singular matrix in solving dual problem. Using least-squares solution instead.\n",
      "  warnings.warn(\n"
     ]
    },
    {
     "name": "stdout",
     "output_type": "stream",
     "text": [
      "[1/4] w=20, MR=2048, Hydra=(64,8,17) -> CV bal_acc 0.4966 ± 0.0017\n"
     ]
    },
    {
     "name": "stderr",
     "output_type": "stream",
     "text": [
      "c:\\Users\\gee\\AppData\\Local\\Programs\\Python\\Python311\\Lib\\site-packages\\sklearn\\linear_model\\_ridge.py:254: UserWarning: Singular matrix in solving dual problem. Using least-squares solution instead.\n",
      "  warnings.warn(\n",
      "c:\\Users\\gee\\AppData\\Local\\Programs\\Python\\Python311\\Lib\\site-packages\\sklearn\\linear_model\\_ridge.py:254: UserWarning: Singular matrix in solving dual problem. Using least-squares solution instead.\n",
      "  warnings.warn(\n",
      "c:\\Users\\gee\\AppData\\Local\\Programs\\Python\\Python311\\Lib\\site-packages\\sklearn\\linear_model\\_ridge.py:254: UserWarning: Singular matrix in solving dual problem. Using least-squares solution instead.\n",
      "  warnings.warn(\n"
     ]
    },
    {
     "name": "stdout",
     "output_type": "stream",
     "text": [
      "[2/4] w=20, MR=4096, Hydra=(64,8,17) -> CV bal_acc 0.4930 ± 0.0040\n"
     ]
    },
    {
     "name": "stderr",
     "output_type": "stream",
     "text": [
      "c:\\Users\\gee\\AppData\\Local\\Programs\\Python\\Python311\\Lib\\site-packages\\sklearn\\linear_model\\_ridge.py:254: UserWarning: Singular matrix in solving dual problem. Using least-squares solution instead.\n",
      "  warnings.warn(\n",
      "c:\\Users\\gee\\AppData\\Local\\Programs\\Python\\Python311\\Lib\\site-packages\\sklearn\\linear_model\\_ridge.py:254: UserWarning: Singular matrix in solving dual problem. Using least-squares solution instead.\n",
      "  warnings.warn(\n",
      "c:\\Users\\gee\\AppData\\Local\\Programs\\Python\\Python311\\Lib\\site-packages\\sklearn\\linear_model\\_ridge.py:254: UserWarning: Singular matrix in solving dual problem. Using least-squares solution instead.\n",
      "  warnings.warn(\n"
     ]
    },
    {
     "name": "stdout",
     "output_type": "stream",
     "text": [
      "[3/4] w=64, MR=2048, Hydra=(64,8,17) -> CV bal_acc 0.4981 ± 0.0061\n"
     ]
    },
    {
     "name": "stderr",
     "output_type": "stream",
     "text": [
      "c:\\Users\\gee\\AppData\\Local\\Programs\\Python\\Python311\\Lib\\site-packages\\sklearn\\linear_model\\_ridge.py:254: UserWarning: Singular matrix in solving dual problem. Using least-squares solution instead.\n",
      "  warnings.warn(\n",
      "c:\\Users\\gee\\AppData\\Local\\Programs\\Python\\Python311\\Lib\\site-packages\\sklearn\\linear_model\\_ridge.py:254: UserWarning: Singular matrix in solving dual problem. Using least-squares solution instead.\n",
      "  warnings.warn(\n",
      "c:\\Users\\gee\\AppData\\Local\\Programs\\Python\\Python311\\Lib\\site-packages\\sklearn\\linear_model\\_ridge.py:254: UserWarning: Singular matrix in solving dual problem. Using least-squares solution instead.\n",
      "  warnings.warn(\n"
     ]
    },
    {
     "name": "stdout",
     "output_type": "stream",
     "text": [
      "[4/4] w=64, MR=4096, Hydra=(64,8,17) -> CV bal_acc 0.4976 ± 0.0059\n",
      "\n",
      "Best config by CV: window=64, MR=2048, Hydra=(groups=64, kernels=8, max_ch=17) with CV bal_acc=0.4981\n",
      "\n",
      "Fitting best transformers on training split...\n"
     ]
    },
    {
     "name": "stderr",
     "output_type": "stream",
     "text": [
      "c:\\Users\\gee\\AppData\\Local\\Programs\\Python\\Python311\\Lib\\site-packages\\sklearn\\linear_model\\_ridge.py:254: UserWarning: Singular matrix in solving dual problem. Using least-squares solution instead.\n",
      "  warnings.warn(\n"
     ]
    },
    {
     "name": "stdout",
     "output_type": "stream",
     "text": [
      "\n",
      "Test accuracy: 0.4932\n",
      "              precision    recall  f1-score   support\n",
      "\n",
      "        Down       0.47      0.52      0.49      1510\n",
      "          Up       0.52      0.47      0.49      1671\n",
      "\n",
      "    accuracy                           0.49      3181\n",
      "   macro avg       0.49      0.49      0.49      3181\n",
      "weighted avg       0.50      0.49      0.49      3181\n",
      "\n",
      "✓ Best model saved to models-grid-2//JNJ_mr_hydra_best.pkl\n",
      "\n",
      "[5/5] Processing MSFT...\n",
      "Loaded 9899 rows for MSFT\n",
      "\n",
      "============================================================\n",
      "Training model for: MSFT\n",
      "============================================================\n"
     ]
    },
    {
     "name": "stderr",
     "output_type": "stream",
     "text": [
      "c:\\Users\\gee\\AppData\\Local\\Programs\\Python\\Python311\\Lib\\site-packages\\sklearn\\linear_model\\_ridge.py:254: UserWarning: Singular matrix in solving dual problem. Using least-squares solution instead.\n",
      "  warnings.warn(\n",
      "c:\\Users\\gee\\AppData\\Local\\Programs\\Python\\Python311\\Lib\\site-packages\\sklearn\\linear_model\\_ridge.py:254: UserWarning: Singular matrix in solving dual problem. Using least-squares solution instead.\n",
      "  warnings.warn(\n",
      "c:\\Users\\gee\\AppData\\Local\\Programs\\Python\\Python311\\Lib\\site-packages\\sklearn\\linear_model\\_ridge.py:254: UserWarning: Singular matrix in solving dual problem. Using least-squares solution instead.\n",
      "  warnings.warn(\n"
     ]
    },
    {
     "name": "stdout",
     "output_type": "stream",
     "text": [
      "[1/4] w=20, MR=2048, Hydra=(64,8,17) -> CV bal_acc 0.5023 ± 0.0100\n"
     ]
    },
    {
     "name": "stderr",
     "output_type": "stream",
     "text": [
      "c:\\Users\\gee\\AppData\\Local\\Programs\\Python\\Python311\\Lib\\site-packages\\sklearn\\linear_model\\_ridge.py:254: UserWarning: Singular matrix in solving dual problem. Using least-squares solution instead.\n",
      "  warnings.warn(\n",
      "c:\\Users\\gee\\AppData\\Local\\Programs\\Python\\Python311\\Lib\\site-packages\\sklearn\\linear_model\\_ridge.py:254: UserWarning: Singular matrix in solving dual problem. Using least-squares solution instead.\n",
      "  warnings.warn(\n",
      "c:\\Users\\gee\\AppData\\Local\\Programs\\Python\\Python311\\Lib\\site-packages\\sklearn\\linear_model\\_ridge.py:254: UserWarning: Singular matrix in solving dual problem. Using least-squares solution instead.\n",
      "  warnings.warn(\n"
     ]
    },
    {
     "name": "stdout",
     "output_type": "stream",
     "text": [
      "[2/4] w=20, MR=4096, Hydra=(64,8,17) -> CV bal_acc 0.5033 ± 0.0091\n"
     ]
    },
    {
     "name": "stderr",
     "output_type": "stream",
     "text": [
      "c:\\Users\\gee\\AppData\\Local\\Programs\\Python\\Python311\\Lib\\site-packages\\sklearn\\linear_model\\_ridge.py:254: UserWarning: Singular matrix in solving dual problem. Using least-squares solution instead.\n",
      "  warnings.warn(\n",
      "c:\\Users\\gee\\AppData\\Local\\Programs\\Python\\Python311\\Lib\\site-packages\\sklearn\\linear_model\\_ridge.py:254: UserWarning: Singular matrix in solving dual problem. Using least-squares solution instead.\n",
      "  warnings.warn(\n",
      "c:\\Users\\gee\\AppData\\Local\\Programs\\Python\\Python311\\Lib\\site-packages\\sklearn\\linear_model\\_ridge.py:254: UserWarning: Singular matrix in solving dual problem. Using least-squares solution instead.\n",
      "  warnings.warn(\n"
     ]
    },
    {
     "name": "stdout",
     "output_type": "stream",
     "text": [
      "[3/4] w=64, MR=2048, Hydra=(64,8,17) -> CV bal_acc 0.5044 ± 0.0102\n"
     ]
    },
    {
     "name": "stderr",
     "output_type": "stream",
     "text": [
      "c:\\Users\\gee\\AppData\\Local\\Programs\\Python\\Python311\\Lib\\site-packages\\sklearn\\linear_model\\_ridge.py:254: UserWarning: Singular matrix in solving dual problem. Using least-squares solution instead.\n",
      "  warnings.warn(\n",
      "c:\\Users\\gee\\AppData\\Local\\Programs\\Python\\Python311\\Lib\\site-packages\\sklearn\\linear_model\\_ridge.py:254: UserWarning: Singular matrix in solving dual problem. Using least-squares solution instead.\n",
      "  warnings.warn(\n",
      "c:\\Users\\gee\\AppData\\Local\\Programs\\Python\\Python311\\Lib\\site-packages\\sklearn\\linear_model\\_ridge.py:254: UserWarning: Singular matrix in solving dual problem. Using least-squares solution instead.\n",
      "  warnings.warn(\n"
     ]
    },
    {
     "name": "stdout",
     "output_type": "stream",
     "text": [
      "[4/4] w=64, MR=4096, Hydra=(64,8,17) -> CV bal_acc 0.5044 ± 0.0102\n",
      "\n",
      "Best config by CV: window=64, MR=2048, Hydra=(groups=64, kernels=8, max_ch=17) with CV bal_acc=0.5044\n",
      "\n",
      "Fitting best transformers on training split...\n"
     ]
    },
    {
     "name": "stderr",
     "output_type": "stream",
     "text": [
      "c:\\Users\\gee\\AppData\\Local\\Programs\\Python\\Python311\\Lib\\site-packages\\sklearn\\linear_model\\_ridge.py:254: UserWarning: Singular matrix in solving dual problem. Using least-squares solution instead.\n",
      "  warnings.warn(\n"
     ]
    },
    {
     "name": "stdout",
     "output_type": "stream",
     "text": [
      "\n",
      "Test accuracy: 0.5104\n",
      "              precision    recall  f1-score   support\n",
      "\n",
      "        Down       0.46      0.39      0.42       895\n",
      "          Up       0.55      0.61      0.58      1072\n",
      "\n",
      "    accuracy                           0.51      1967\n",
      "   macro avg       0.50      0.50      0.50      1967\n",
      "weighted avg       0.50      0.51      0.51      1967\n",
      "\n",
      "✓ Best model saved to models-grid-2//MSFT_mr_hydra_best.pkl\n",
      "\n",
      "============================================================\n",
      "TRAINING SUMMARY\n",
      "============================================================\n",
      "Total datasets: 5\n",
      "Successful: 5\n",
      "Failed: 0\n",
      "\n",
      "Detailed results saved to: models-grid-2//training_summary.csv\n",
      "\n",
      "Successfully trained models for:\n",
      "  - AAPL\n",
      "  - GE\n",
      "  - IBM\n",
      "  - JNJ\n",
      "  - MSFT\n"
     ]
    }
   ],
   "source": [
    "# mr_hydra_multi_stock_training.py\n",
    "\n",
    "import os\n",
    "import gc\n",
    "import glob\n",
    "import numpy as np\n",
    "import pandas as pd\n",
    "import joblib\n",
    "from sklearn.linear_model import RidgeClassifier\n",
    "from sklearn.metrics import accuracy_score, classification_report, balanced_accuracy_score\n",
    "from sklearn.model_selection import TimeSeriesSplit\n",
    "from aeon.transformations.collection.convolution_based import MultiRocket, HydraTransformer\n",
    "from aeon.utils.validation import check_n_jobs\n",
    "\n",
    "# ----------------------\n",
    "# Data utils\n",
    "# ----------------------\n",
    "def load_and_preprocess(filename):\n",
    "    if not os.path.exists(filename):\n",
    "        raise FileNotFoundError(f\"No file at {filename}\")\n",
    "    df = pd.read_csv(filename, parse_dates=[\"Date\"])\n",
    "    df[\"Direction\"] = (df[\"Close\"].shift(-1) > df[\"Close\"]).astype(int)\n",
    "    df.replace([np.inf, -np.inf], np.nan, inplace=True)\n",
    "    df.dropna(inplace=True)\n",
    "    return df\n",
    "\n",
    "def rolling_windows(df, window_size=20, drop_cols=None):\n",
    "    if drop_cols is None:\n",
    "        drop_cols = [\n",
    "            \"Date\", \"Close\", \"Target\", \"Direction\",\n",
    "            \"High\", \"Low\", \"Open\", \"High_lag1\", \"Low_lag1\", \"Open_lag1\"\n",
    "        ]\n",
    "    Xs, ys = [], []\n",
    "    features = df.drop(columns=drop_cols, errors='ignore')\n",
    "    y = df[\"Direction\"].values\n",
    "    for i in range(window_size, len(df)):\n",
    "        Xs.append(features.iloc[i - window_size: i].values)\n",
    "        ys.append(y[i])\n",
    "    return np.array(Xs), np.array(ys)\n",
    "\n",
    "def reshape_for_aeon(X_3d):\n",
    "    # sklearn-style (n_cases, time, features) -> aeon (n_cases, channels, time)\n",
    "    return np.transpose(X_3d, (0, 2, 1))\n",
    "\n",
    "# ----------------------\n",
    "# Search (max 10 iterations)\n",
    "# ----------------------\n",
    "def _default_search_space(nf):\n",
    "    \"\"\"\n",
    "    Returns up to 10 configs spanning windows + MR/Hydra budgets.\n",
    "    Each item: (window, mr_kernels, hydra_groups, hydra_kernels, hydra_max_channels)\n",
    "    \"\"\"\n",
    "    m32 = min(nf, 32)\n",
    "    m64 = min(nf, 64)\n",
    "    return [\n",
    "        # Hydra Medium runs\n",
    "        (20, 2048, 64, 8, m64),\n",
    "        (20, 4096, 64, 8, m64),\n",
    "\n",
    "        (64, 2048, 64, 8, m64),\n",
    "        (64, 4096, 64, 8, m64),\n",
    "\n",
    "        # (96, 2048, 64, 8, m64),\n",
    "        # (96, 4096, 64, 8, m64),\n",
    "\n",
    "\n",
    "    ]\n",
    "\n",
    "def _cv_score_config(X, y, cfg, n_splits=3, gap=5, random_state=42):\n",
    "    \"\"\"\n",
    "    Fit/score one config via TimeSeriesSplit CV.\n",
    "    Leak-safe: fit transformers and classifier on each fold's train only.\n",
    "    Returns (mean_bal_acc, std_bal_acc).\n",
    "    \"\"\"\n",
    "    w, mrk, hg, hk, hch = cfg\n",
    "    # TSCV on the windowed dataset\n",
    "    tscv = TimeSeriesSplit(n_splits=n_splits, gap=gap)\n",
    "    scores = []\n",
    "\n",
    "    for tr_idx, te_idx in tscv.split(X):\n",
    "        # Fresh transformers per fold\n",
    "        hydra = HydraTransformer(\n",
    "            n_groups=hg,\n",
    "            n_kernels=hk,\n",
    "            max_num_channels=hch,\n",
    "            output_type=\"numpy\",\n",
    "            n_jobs=1,\n",
    "            random_state=random_state,\n",
    "        )\n",
    "        mr = MultiRocket(\n",
    "            n_kernels=mrk,\n",
    "            max_dilations_per_kernel=32,\n",
    "            n_features_per_kernel=4,\n",
    "            normalise=True,       # avoid external scaling/leakage\n",
    "            n_jobs=1,\n",
    "            random_state=random_state,\n",
    "        )\n",
    "\n",
    "        Xtr, Xte = X[tr_idx], X[te_idx]\n",
    "        ytr, yte = y[tr_idx], y[te_idx]\n",
    "\n",
    "        # Fit/transform per fold\n",
    "        X_hydra_tr = hydra.fit_transform(Xtr, ytr)\n",
    "        X_hydra_te = hydra.transform(Xte)\n",
    "\n",
    "        X_mr_tr = mr.fit_transform(Xtr, ytr)\n",
    "        X_mr_te = mr.transform(Xte)\n",
    "\n",
    "        Xtr_full = np.hstack([X_hydra_tr, X_mr_tr])\n",
    "        Xte_full = np.hstack([X_hydra_te, X_mr_te])\n",
    "\n",
    "        clf = RidgeClassifier(alpha=1.0)\n",
    "        clf.fit(Xtr_full, ytr)\n",
    "        y_pred = clf.predict(Xte_full)\n",
    "        scores.append(balanced_accuracy_score(yte, y_pred))\n",
    "\n",
    "        # Free fold memory\n",
    "        del hydra, mr, X_hydra_tr, X_hydra_te, X_mr_tr, X_mr_te, Xtr_full, Xte_full, clf\n",
    "        gc.collect()\n",
    "\n",
    "    return float(np.mean(scores)), float(np.std(scores))\n",
    "\n",
    "def mr_hydra_train_eval(\n",
    "    df,\n",
    "    stock_name,\n",
    "    max_searches=10,\n",
    "    n_splits_cv=3,\n",
    "    gap=5,\n",
    "    test_ratio=0.2,\n",
    "    n_jobs=None,\n",
    "    random_state=42,\n",
    "    save_path=\"models/\",\n",
    "):\n",
    "    \"\"\"\n",
    "    Runs a capped (<=10) MR+Hydra search across window sizes and kernel budgets,\n",
    "    selects the best by CV balanced accuracy, refits on train split, evaluates on test,\n",
    "    and saves the best model.\n",
    "    \"\"\"\n",
    "    print(f\"\\n{'='*60}\")\n",
    "    print(f\"Training model for: {stock_name}\")\n",
    "    print(f\"{'='*60}\")\n",
    "\n",
    "    try:\n",
    "        # Quick sample to get nf (feature count)\n",
    "        Xw_sample, _ = rolling_windows(df, window_size=48)\n",
    "        if len(Xw_sample) == 0:\n",
    "            print(\"No data after windowing. Skipping.\")\n",
    "            return False\n",
    "        _, _, nf = Xw_sample.shape\n",
    "\n",
    "        # Build search space (<=10 configs)\n",
    "        search_space = _default_search_space(nf)[:max_searches]\n",
    "\n",
    "        results = []\n",
    "        best_score = -np.inf\n",
    "        best_cfg = None\n",
    "        best_w_data = None  # cache (X,y) for the winning window\n",
    "\n",
    "        if n_jobs is None:\n",
    "            n_jobs = check_n_jobs(-1)\n",
    "\n",
    "        # Evaluate each config\n",
    "        for idx, cfg in enumerate(search_space, 1):\n",
    "            w, mrk, hg, hk, hch = cfg\n",
    "            # Build windows for this w\n",
    "            Xw, yw = rolling_windows(df, window_size=w)\n",
    "            if len(Xw) < 100:\n",
    "                print(f\"⚠️  [cfg {idx}/{len(search_space)}] window={w}: Only {len(Xw)} samples. Skipping.\")\n",
    "                continue\n",
    "\n",
    "            X = reshape_for_aeon(Xw.astype(\"float32\"))  # (n_cases, n_channels, n_timepoints)\n",
    "            mean_ba, std_ba = _cv_score_config(X, yw, cfg, n_splits=n_splits_cv, gap=gap, random_state=random_state)\n",
    "\n",
    "            results.append({\n",
    "                \"config_idx\": idx,\n",
    "                \"window\": w,\n",
    "                \"mr_kernels\": mrk,\n",
    "                \"hydra_groups\": hg,\n",
    "                \"hydra_kernels\": hk,\n",
    "                \"hydra_max_channels\": hch,\n",
    "                \"cv_bal_acc_mean\": mean_ba,\n",
    "                \"cv_bal_acc_std\": std_ba\n",
    "            })\n",
    "            print(f\"[{idx}/{len(search_space)}] w={w}, MR={mrk}, Hydra=({hg},{hk},{hch}) \"\n",
    "                  f\"-> CV bal_acc {mean_ba:.4f} ± {std_ba:.4f}\")\n",
    "\n",
    "            # Track best\n",
    "            if mean_ba > best_score:\n",
    "                best_score = mean_ba\n",
    "                best_cfg = cfg\n",
    "                best_w_data = (X, yw)\n",
    "\n",
    "            # Free per-config memory (except best cached data)\n",
    "            if best_w_data is None or best_w_data[0] is not X:\n",
    "                del X, yw\n",
    "            del Xw\n",
    "            gc.collect()\n",
    "\n",
    "        if best_cfg is None:\n",
    "            print(\"No valid configuration found. Skipping.\")\n",
    "            return False\n",
    "\n",
    "        print(f\"\\nBest config by CV: window={best_cfg[0]}, MR={best_cfg[1]}, \"\n",
    "              f\"Hydra=(groups={best_cfg[2]}, kernels={best_cfg[3]}, max_ch={best_cfg[4]}) \"\n",
    "              f\"with CV bal_acc={best_score:.4f}\")\n",
    "\n",
    "        # Final train/test split on the best windowed data (chronological split)\n",
    "        X, y = best_w_data\n",
    "        ns = X.shape[0]\n",
    "        split_idx = int((1 - test_ratio) * ns)\n",
    "        X_train, X_test = X[:split_idx], X[split_idx:]\n",
    "        y_train, y_test = y[:split_idx], y[split_idx:]\n",
    "\n",
    "        # Refit transformers on full train, transform train & test\n",
    "        w, mrk, hg, hk, hch = best_cfg\n",
    "\n",
    "        hydra = HydraTransformer(\n",
    "            n_groups=hg,\n",
    "            n_kernels=hk,\n",
    "            max_num_channels=hch,\n",
    "            output_type=\"numpy\",\n",
    "            n_jobs=1,\n",
    "            random_state=random_state,\n",
    "        )\n",
    "        mr = MultiRocket(\n",
    "            n_kernels=mrk,\n",
    "            max_dilations_per_kernel=32,\n",
    "            n_features_per_kernel=4,\n",
    "            normalise=True,\n",
    "            n_jobs=1,\n",
    "            random_state=random_state,\n",
    "        )\n",
    "\n",
    "        print(\"\\nFitting best transformers on training split...\")\n",
    "        X_hydra_train = hydra.fit_transform(X_train, y_train)\n",
    "        X_hydra_test = hydra.transform(X_test)\n",
    "\n",
    "        X_mr_train = mr.fit_transform(X_train, y_train)\n",
    "        X_mr_test = mr.transform(X_test)\n",
    "\n",
    "        X_train_full = np.hstack([X_hydra_train, X_mr_train])\n",
    "        X_test_full = np.hstack([X_hydra_test, X_mr_test])\n",
    "\n",
    "        # Train classifier (fixed alpha to keep total iterations <= 10)\n",
    "        clf = RidgeClassifier(alpha=1.0)\n",
    "        clf.fit(X_train_full, y_train)\n",
    "\n",
    "        y_pred = clf.predict(X_test_full)\n",
    "        acc = accuracy_score(y_test, y_pred)\n",
    "        print(f\"\\nTest accuracy: {acc:.4f}\")\n",
    "        print(classification_report(y_test, y_pred, target_names=[\"Down\", \"Up\"]))\n",
    "\n",
    "        # Save model components\n",
    "        os.makedirs(save_path, exist_ok=True)\n",
    "        model_data = {\n",
    "            'hydra': hydra,\n",
    "            'multirocket': mr,\n",
    "            'classifier': clf,\n",
    "            'best_config': {\n",
    "                'window_size': w,\n",
    "                'mr_kernels': mrk,\n",
    "                'hydra_groups': hg,\n",
    "                'hydra_kernels': hk,\n",
    "                'hydra_max_channels': hch,\n",
    "            },\n",
    "            'n_features': X.shape[1],\n",
    "            'stock_name': stock_name,\n",
    "            'test_accuracy': acc,\n",
    "            'cv_results': pd.DataFrame(results).sort_values(\"cv_bal_acc_mean\", ascending=False).to_dict(orient='list'),\n",
    "            'drop_cols': [\n",
    "                \"Date\", \"Close\", \"Target\", \"Direction\",\n",
    "                \"High\", \"Low\", \"Open\", \"High_lag1\", \"Low_lag1\", \"Open_lag1\"\n",
    "            ],\n",
    "        }\n",
    "        model_filename = f\"{save_path}/{stock_name}_mr_hydra_best.pkl\"\n",
    "        joblib.dump(model_data, model_filename)\n",
    "        print(f\"✓ Best model saved to {model_filename}\")\n",
    "\n",
    "        # Free memory\n",
    "        del X, y, X_train, X_test, X_hydra_train, X_hydra_test, X_mr_train, X_mr_test, X_train_full, X_test_full\n",
    "        del hydra, mr, clf\n",
    "        gc.collect()\n",
    "\n",
    "        return True\n",
    "\n",
    "    except Exception as e:\n",
    "        print(f\"❌ Error training {stock_name}: {str(e)}\")\n",
    "        return False\n",
    "\n",
    "# ----------------------\n",
    "# Batch over all stocks\n",
    "# ----------------------\n",
    "def train_all_stocks(\n",
    "    data_dir=\"DATA/\",\n",
    "    save_path=\"models-grid-2/\",\n",
    "    max_searches=10,\n",
    "    **kwargs\n",
    "):\n",
    "    csv_files = glob.glob(os.path.join(data_dir, \"*.csv\"))\n",
    "    if not csv_files:\n",
    "        print(f\"No CSV files found in {data_dir}\")\n",
    "        return\n",
    "\n",
    "    print(f\"Found {len(csv_files)} datasets to process\")\n",
    "    results = []\n",
    "    successful = failed = 0\n",
    "\n",
    "    for i, filepath in enumerate(csv_files, 1):\n",
    "        filename = os.path.basename(filepath)\n",
    "        stock_name = filename.replace('_daily_features.csv', '').replace('.csv', '')\n",
    "\n",
    "        print(f\"\\n[{i}/{len(csv_files)}] Processing {stock_name}...\")\n",
    "        try:\n",
    "            df = load_and_preprocess(filepath)\n",
    "            print(f\"Loaded {len(df)} rows for {stock_name}\")\n",
    "\n",
    "            ok = mr_hydra_train_eval(\n",
    "                df,\n",
    "                stock_name,\n",
    "                save_path=save_path,\n",
    "                max_searches=max_searches,\n",
    "                **kwargs\n",
    "            )\n",
    "            if ok:\n",
    "                successful += 1\n",
    "                results.append({'stock': stock_name, 'status': 'success', 'rows': len(df)})\n",
    "            else:\n",
    "                failed += 1\n",
    "                results.append({'stock': stock_name, 'status': 'failed', 'rows': len(df)})\n",
    "\n",
    "            # Free per-stock DataFrame memory\n",
    "            del df\n",
    "            gc.collect()\n",
    "\n",
    "        except Exception as e:\n",
    "            print(f\"❌ Failed to process {stock_name}: {str(e)}\")\n",
    "            failed += 1\n",
    "            results.append({'stock': stock_name, 'status': 'error', 'error': str(e)})\n",
    "\n",
    "    print(f\"\\n{'='*60}\")\n",
    "    print(\"TRAINING SUMMARY\")\n",
    "    print(f\"{'='*60}\")\n",
    "    print(f\"Total datasets: {len(csv_files)}\")\n",
    "    print(f\"Successful: {successful}\")\n",
    "    print(f\"Failed: {failed}\")\n",
    "\n",
    "    results_df = pd.DataFrame(results)\n",
    "    os.makedirs(save_path, exist_ok=True)\n",
    "    summary_path = f\"{save_path}/training_summary.csv\"\n",
    "    results_df.to_csv(summary_path, index=False)\n",
    "    print(f\"\\nDetailed results saved to: {summary_path}\")\n",
    "\n",
    "    successful_models = [r['stock'] for r in results if r['status'] == 'success']\n",
    "    if successful_models:\n",
    "        print(f\"\\nSuccessfully trained models for:\")\n",
    "        for stock in successful_models:\n",
    "            print(f\"  - {stock}\")\n",
    "\n",
    "if __name__ == \"__main__\":\n",
    "    train_all_stocks(\n",
    "        data_dir=\"data/\",\n",
    "        save_path=\"models-grid-2/\",\n",
    "        # you can tweak below without increasing iteration count:\n",
    "        n_splits_cv=3,\n",
    "        gap=5,\n",
    "        test_ratio=0.2,\n",
    "        max_searches=4,\n",
    "        random_state=42\n",
    "    )\n"
   ]
  }
 ],
 "metadata": {
  "kernelspec": {
   "display_name": "Python 3",
   "language": "python",
   "name": "python3"
  },
  "language_info": {
   "codemirror_mode": {
    "name": "ipython",
    "version": 3
   },
   "file_extension": ".py",
   "mimetype": "text/x-python",
   "name": "python",
   "nbconvert_exporter": "python",
   "pygments_lexer": "ipython3",
   "version": "3.11.0"
  }
 },
 "nbformat": 4,
 "nbformat_minor": 5
}
